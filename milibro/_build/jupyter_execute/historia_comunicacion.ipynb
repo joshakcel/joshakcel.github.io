{
 "cells": [
  {
   "cell_type": "markdown",
   "id": "728fa6b6",
   "metadata": {},
   "source": [
    "## Hitos en el desarrollo de Internet\n",
    "\n",
    "A lo largo de la historia, lo medio de comunicacion ha evolucionado de la mano de la tecnologia asi tenemos los principales acontecimientos que han marcado la historia:\n",
    "\n",
    "1844: Invencion del telefrafo\n",
    "\n",
    "1858: Primer cable de telegrafia transAtlantico. (dejo de funcionar en pocos dias por problemas de revestimiento)\n",
    "\n",
    "1866: Primer cable transAtlantico exitoso\n",
    "\n",
    "1876: Invencion del telefono por Alexander G. Bell\n",
    "\n",
    "1901: Primera senal de radio a traves del Atlantico\n",
    "\n",
    "1917: Primera llamada de telefono transcontinetal\n",
    "\n",
    "1927: Primera pelicula hablada\n",
    "\n",
    "1939: Debut de la television en la Feria Mundial de New York\n",
    "\n",
    "1950: Inicio de transmisiones de TV en color\n",
    "\n",
    "1958: Invencion del modem en los Laboratorios Bell\n",
    "\n",
    "1969: Creacion de ARPANET, el primer Internet\n"
   ]
  },
  {
   "cell_type": "code",
   "execution_count": null,
   "id": "1ae64154",
   "metadata": {},
   "outputs": [],
   "source": []
  },
  {
   "cell_type": "code",
   "execution_count": null,
   "id": "33c864fb",
   "metadata": {},
   "outputs": [],
   "source": []
  }
 ],
 "metadata": {
  "kernelspec": {
   "display_name": "Python 3 (ipykernel)",
   "language": "python",
   "name": "python3"
  },
  "language_info": {
   "codemirror_mode": {
    "name": "ipython",
    "version": 3
   },
   "file_extension": ".py",
   "mimetype": "text/x-python",
   "name": "python",
   "nbconvert_exporter": "python",
   "pygments_lexer": "ipython3",
   "version": "3.10.12"
  }
 },
 "nbformat": 4,
 "nbformat_minor": 5
}