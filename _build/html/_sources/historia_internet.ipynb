{
 "cells": [
  {
   "cell_type": "markdown",
   "id": "c66c5b63",
   "metadata": {},
   "source": [
    "# PROGRAMACION DE PAGINAS WEB\n",
    "\n",
    "## Historia de Internet\n",
    "\n"
   ]
  },
  {
   "cell_type": "markdown",
   "id": "b12334f2",
   "metadata": {},
   "source": [
    "## Un breve paseo por el tiempo\n",
    "\n",
    "El desarrollo de Internet se debe al trabajo de miles de personas en diversos campos de la tecnologia, sin embargo debemos reconocer ciertos personajes importantes que fueron determinantes en el desarrollo de Internet.\n",
    "\n",
    "### Lawrence Roberts\n",
    "Director del equipo de desarrollo de ARPANET, a Roberts se le suele reconocer como \"el padre de Internet\".\n",
    "\n",
    "### Robert Kahn y Vinton Cerf\n",
    "Trabajaron en el equipo de ARPANET y se les pidio la creacion de un modelo de arquitectura de red abierta, donde cualquier ordenador pudiera conectarse con otro de manera indemendiente de la plataforma de hardware o software. Este trabajo los llevo a desarrollar el protocolo TCP/IP.\n",
    "\n",
    "\n",
    "### Tim Berners Lee\n",
    "Conocido como \"el padre de la Web\", fue quien creo el lenguaje HTML utilizado para creacion de documentos de la web,  el protocolo HTTP para comomunicacion entre ordenadores en la web, y URL como medio de localizacion de recursos que forman parte de Internet. Tambien desarrollo el primer servidor web y el primer navegador web."
   ]
  },
  {
   "cell_type": "code",
   "execution_count": null,
   "id": "ea6e098c",
   "metadata": {},
   "outputs": [],
   "source": []
  },
  {
   "cell_type": "code",
   "execution_count": null,
   "id": "cee566f2",
   "metadata": {},
   "outputs": [],
   "source": []
  },
  {
   "cell_type": "code",
   "execution_count": null,
   "id": "91f91eca",
   "metadata": {},
   "outputs": [],
   "source": []
  },
  {
   "cell_type": "code",
   "execution_count": null,
   "id": "7934730f",
   "metadata": {},
   "outputs": [],
   "source": []
  }
 ],
 "metadata": {
  "kernelspec": {
   "display_name": "Python 3 (ipykernel)",
   "language": "python",
   "name": "python3"
  },
  "language_info": {
   "codemirror_mode": {
    "name": "ipython",
    "version": 3
   },
   "file_extension": ".py",
   "mimetype": "text/x-python",
   "name": "python",
   "nbconvert_exporter": "python",
   "pygments_lexer": "ipython3",
   "version": "3.11.5"
  }
 },
 "nbformat": 4,
 "nbformat_minor": 5
}
