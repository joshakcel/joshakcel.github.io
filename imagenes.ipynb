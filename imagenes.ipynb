{
 "cells": [
  {
   "cell_type": "markdown",
   "id": "bdf291dd",
   "metadata": {},
   "source": [
    "## Leonard Kleinrock\n",
    "\n",
    "![leonard Kleinrock](img/kleinrock_imp.png)\n",
    "\n",
    "Leonard Kleinrock junto al primer IMP (Interface Message Processor)\n",
    "\n",
    "## Tim Berners Lee\n",
    "\n",
    "![Tim Berners Lee](img/tim_berners_lee.png)\n",
    "\n",
    "Tim Berners Lee muestra el primer navegador web\n",
    "\n",
    "## Primer nodo de ARPANET\n",
    "\n",
    "![Primer Nodo ARPANET](img/primer_nodo_arpanet.png)\n",
    "\n",
    "Diagrama original del primer nodo de ARPANET\n",
    "\n",
    "## Primeros cuatro nodos de ARPANET\n",
    "\n",
    "![Primeros Nodos ARPANET](img/primeros_4_nodos_arpanet.png)\n",
    "\n",
    "Diagrama de los primeros cuatro nodos de ARPANET"
   ]
  },
  {
   "cell_type": "code",
   "execution_count": null,
   "id": "ff3990e3",
   "metadata": {},
   "outputs": [],
   "source": []
  },
  {
   "cell_type": "code",
   "execution_count": null,
   "id": "b90ebd3f",
   "metadata": {},
   "outputs": [],
   "source": []
  },
  {
   "cell_type": "code",
   "execution_count": null,
   "id": "068c0c77",
   "metadata": {},
   "outputs": [],
   "source": []
  }
 ],
 "metadata": {
  "kernelspec": {
   "display_name": "Python 3 (ipykernel)",
   "language": "python",
   "name": "python3"
  },
  "language_info": {
   "codemirror_mode": {
    "name": "ipython",
    "version": 3
   },
   "file_extension": ".py",
   "mimetype": "text/x-python",
   "name": "python",
   "nbconvert_exporter": "python",
   "pygments_lexer": "ipython3",
   "version": "3.11.5"
  }
 },
 "nbformat": 4,
 "nbformat_minor": 5
}
