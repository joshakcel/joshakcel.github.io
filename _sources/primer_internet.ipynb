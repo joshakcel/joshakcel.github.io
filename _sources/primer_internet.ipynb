{
 "cells": [
  {
   "cell_type": "markdown",
   "id": "25ddd612",
   "metadata": {},
   "source": [
    "## El primer Internet\n",
    "\n",
    "En la decada de los sesenta, las bases del actual Internet se desarrolaron en tres lugares diferentes de manera independiente, se realizaron estudios sobre comunicacion entre ordenadores, redes de datos, y conmutacion de paquetes de informacion, en el Instituto Tecnologico de Masachussets, La Corporacion RAND y el Laboratorio Nacional de Fisica. (Entre 1964 y 1967)\n",
    "\n",
    "El origen de Internet se situa durante la \"Guerra Fria\" entre la antigua URSS y los EUA. La carrera armamentis llevo a la creacion de ARPA por orden del Presidente de los EUA en 1958.\n",
    "El programa de comunicaciones se realizo bajo la direccion de Lawrence Roberts que provenia del MIT.\n",
    "\n",
    "Por otro lado la Fuerza Aerea de los EUA, encargo a la Corporacion RAND el estudio de comunicaciones digitales basados en sistemas distribuidos. El sistema fue ideado por Paul Baran, en el cada mensaje de comunicacion se dividia trozos de tamano establecido, cada trozo era autonomo y se podia reensamblar el lugar de destino. Ademas cada trozo era capaz de encontrar su camino hacia el lugar de destino.\n",
    "\n",
    "## Principales acontecimientos en desarrollo comunicacion digital\n",
    "\n",
    "1961: Leonard Kleinrock publica el primer articulo sobre conmutacion de paquetes\n",
    "\n",
    "1961: J. Licklider escribe informes sobre ordenadores conectados globalmente\n",
    "\n",
    "1962: J. Licklider es nombrado director del primer programa de ARPA\n",
    "\n",
    "1964: Leonard Kleinrock publica el primer libro sobre comunicion de redes y ordenadores\n",
    "\n",
    "1964: Paul Baran publica su trabajo sobre desarrollo de comunicaiones distribuidas y paquetes de conmutacion\n",
    "\n",
    "1966: Lawrence Roberts comienza el diseno de ARPANET\n",
    "\n",
    "1968: Comienza la costruccion del primer Interface de Procesador de Mensajes IMP\n",
    "\n",
    "1969: Aparece el primer RFC con el titulo de \"Host Software\" por Steve Crocker\n",
    "\n",
    "1969: Se instala el primer nodo de ARPANET en la UCLA\n",
    "      Se conecta el IMP a un ordenador XDS Sigma 7\n",
    "      \n",
    "1969: Se instala el segundo nodo de ARPANET en Stanford\n",
    "      Se conecta el IMP a un ordenador XDS 940 \n",
    "      Se transmite el primer mensaje de ARPANET el mismo dia\n",
    "      \n",
    "\n"
   ]
  },
  {
   "cell_type": "code",
   "execution_count": null,
   "id": "be0817d5",
   "metadata": {},
   "outputs": [],
   "source": []
  }
 ],
 "metadata": {
  "kernelspec": {
   "display_name": "Python 3 (ipykernel)",
   "language": "python",
   "name": "python3"
  },
  "language_info": {
   "codemirror_mode": {
    "name": "ipython",
    "version": 3
   },
   "file_extension": ".py",
   "mimetype": "text/x-python",
   "name": "python",
   "nbconvert_exporter": "python",
   "pygments_lexer": "ipython3",
   "version": "3.11.5"
  }
 },
 "nbformat": 4,
 "nbformat_minor": 5
}
